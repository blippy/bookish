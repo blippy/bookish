{
 "metadata": {
  "celltoolbar": "Raw Cell Format",
  "name": "",
  "signature": "sha256:1b2d853c4a4d2957e967ec531a2a2e8152a8305a310b80968b97653e54692257"
 },
 "nbformat": 3,
 "nbformat_minor": 0,
 "worksheets": [
  {
   "cells": [
    {
     "cell_type": "heading",
     "level": 1,
     "metadata": {},
     "source": [
      "Fund Manager performance"
     ]
    },
    {
     "cell_type": "markdown",
     "metadata": {},
     "source": [
      "**Abstract** *In this notebook, we seek to address the problem: does an FM (Fund Manager) or investor beat the index? The problem is looked at from two angles: a frequentist hypothesis test using the binomial distribution, and a Bayesian statistician using a Beta prior.*"
     ]
    },
    {
     "cell_type": "markdown",
     "metadata": {},
     "source": [
      "A word of caution needs to be made: we assume that investor performance is symmetric about a mean. There might be many cases where this is not the case. Some may obtain superior performance from a small number of big wins. This notebook wont be able to capture this. Issues of skewing may be tackled in a subsequent article."
     ]
    },
    {
     "cell_type": "heading",
     "level": 2,
     "metadata": {},
     "source": [
      "Traditional hypothesis testing approach"
     ]
    },
    {
     "cell_type": "markdown",
     "metadata": {},
     "source": [
      "In traditional hypothesis testing, we would typical set up a null hypothesis, $H_0$, which assumes no investor skill, and seek to reject the hytpothesis at some significance level $\\alpha$. The basics of the theory is covered on [Wikipedia](http://en.wikipedia.org/wiki/Statistical_hypothesis_testing), so I shall not cover its groundwork here.\n",
      "\n",
      "We model an investor using a binomial distribution: either the investor outperforms the market, or he does not. The null hypothesis is $H_0= 0.5$, i.e. that he has investment skill.\n",
      "\n",
      "In Excel, you can use \"BINOMDIST\" to perform a test on the Binomial Distribution. This is explained in greater depth at [real-statistics](http://www.real-statistics.com/binomial-and-related-distributions/hypothesis-testing-binomial-distribution/)\n",
      "\n",
      "In Python, we use the function binom.sf. This is the \"survival factor\", and corresponds to the significance level of our test. We can import the statistical test, and set an alias function for the significance level of the binomial distribution as follows:"
     ]
    },
    {
     "cell_type": "code",
     "collapsed": false,
     "input": [
      "import scipy.stats\n",
      "binsig = scipy.stats.binom.sf"
     ],
     "language": "python",
     "metadata": {},
     "outputs": [],
     "prompt_number": 18
    },
    {
     "cell_type": "markdown",
     "metadata": {},
     "source": [
      "We can replicate their first example at [real-statistics](http://www.real-statistics.com/binomial-and-related-distributions/hypothesis-testing-binomial-distribution/) to obtain the significance level:"
     ]
    },
    {
     "cell_type": "code",
     "collapsed": false,
     "input": [
      "binsig(4, 10, 1/6)"
     ],
     "language": "python",
     "metadata": {},
     "outputs": [
      {
       "metadata": {},
       "output_type": "pyout",
       "prompt_number": 19,
       "text": [
        "0.015461966703500481"
       ]
      }
     ],
     "prompt_number": 19
    },
    {
     "cell_type": "markdown",
     "metadata": {},
     "source": [
      "This is significant at the $\\alpha=0.05$ level. They actually express their answer as:"
     ]
    },
    {
     "cell_type": "code",
     "collapsed": false,
     "input": [
      "1- binsig(4, 10, 1/6)"
     ],
     "language": "python",
     "metadata": {},
     "outputs": [
      {
       "metadata": {},
       "output_type": "pyout",
       "prompt_number": 20,
       "text": [
        "0.98453803329649947"
       ]
      }
     ],
     "prompt_number": 20
    },
    {
     "cell_type": "markdown",
     "metadata": {},
     "source": [
      "Let us now do some hypothesis testing on a hypothetical Fund Manager's performance. We want to know if he has any skill. Suppose a fund manager outperforms the market in 6 years out of 10. Our null hypothesis is $H_0=0.5$, i.e. he has no skill. The value for $\\alpha$, the significance, is given by:"
     ]
    },
    {
     "cell_type": "code",
     "collapsed": false,
     "input": [
      "binsig(6, 10, 0.5)"
     ],
     "language": "python",
     "metadata": {},
     "outputs": [
      {
       "metadata": {},
       "output_type": "pyout",
       "prompt_number": 21,
       "text": [
        "0.17187499999999997"
       ]
      }
     ],
     "prompt_number": 21
    },
    {
     "cell_type": "markdown",
     "metadata": {},
     "source": [
      "If we set our significance level to be 0.05, then, seeings as 0.1719 > 0.05, we would not reject the null hypothesis. In other words, we would conclude that there is no evidence to suggest that the manager has skill.\n",
      "\n",
      "What about if he beats the market in 7 years out of 10? Then:"
     ]
    },
    {
     "cell_type": "code",
     "collapsed": false,
     "input": [
      "binsig(7, 10, 0.5)"
     ],
     "language": "python",
     "metadata": {},
     "outputs": [
      {
       "metadata": {},
       "output_type": "pyout",
       "prompt_number": 22,
       "text": [
        "0.054687500000000014"
       ]
      }
     ],
     "prompt_number": 22
    },
    {
     "cell_type": "markdown",
     "metadata": {},
     "source": [
      "We still do not have sufficient evidence at the 5% level.\n",
      "\n",
      "It is only if he beats the market in 8 or more years do we reject the null hypothesis:"
     ]
    },
    {
     "cell_type": "code",
     "collapsed": false,
     "input": [
      "binsig(8, 10, 0.5)"
     ],
     "language": "python",
     "metadata": {},
     "outputs": [
      {
       "metadata": {},
       "output_type": "pyout",
       "prompt_number": 23,
       "text": [
        "0.010742187499999998"
       ]
      }
     ],
     "prompt_number": 23
    },
    {
     "cell_type": "markdown",
     "metadata": {},
     "source": [
      "That is actually quite a tall order. Note that we would still do not reject the hypothesis if we tightened up our significance level to 0.01. Then we would need the fund manager to outperform the market in at least 9 years:"
     ]
    },
    {
     "cell_type": "code",
     "collapsed": false,
     "input": [
      "binsig(9, 10, 0.5)"
     ],
     "language": "python",
     "metadata": {},
     "outputs": [
      {
       "metadata": {},
       "output_type": "pyout",
       "prompt_number": 24,
       "text": [
        "0.0009765625"
       ]
      }
     ],
     "prompt_number": 24
    },
    {
     "cell_type": "markdown",
     "metadata": {},
     "source": [
      "So, given a decade's worth of data, it is quite tough to gain enough evidence to conclude that a fund manager has skill.\n",
      "\n",
      "As a final test, let us consider the case where the fund manager has beaten the markets in 12 of the last 16 years:"
     ]
    },
    {
     "cell_type": "code",
     "collapsed": false,
     "input": [
      "binsig(12, 16, 0.5)"
     ],
     "language": "python",
     "metadata": {},
     "outputs": [
      {
       "metadata": {},
       "output_type": "pyout",
       "prompt_number": 25,
       "text": [
        "0.0106353759765625"
       ]
      }
     ],
     "prompt_number": 25
    },
    {
     "cell_type": "markdown",
     "metadata": {},
     "source": [
      "We would conclude that the investor has skill at the level $\\alpha=0.05$, although not at the level $\\alpha=0.01$. The latter conclusion is very borderline, though."
     ]
    },
    {
     "cell_type": "heading",
     "level": 2,
     "metadata": {},
     "source": [
      "An analysis using Bayes"
     ]
    },
    {
     "cell_type": "markdown",
     "metadata": {},
     "source": [
      "Let us now analyse the issue of outperformance using a Bayesian approach.\n",
      "\n",
      "I had discussed some of the basics of Bayesian statistics in a PDF: [Bayesian simulation of a biased coin](http://pdf.markcarter.me.uk/baycoin.pdf).\n",
      "\n",
      "In Bayesian statistics, we don't have a null hypothesis, but we do need to assume an initial prior distribution. Using the [Beta distribution](http://en.wikipedia.org/wiki/Beta_distribution) is a logical starting point.\n",
      "\n",
      "Let us import some basic infrastructure into Python (3) to help our investigations:"
     ]
    },
    {
     "cell_type": "code",
     "collapsed": false,
     "input": [
      "# import bits and bobs\n",
      "from functools import partial\n",
      "from scipy.stats import beta\n",
      "# needed by ipython3 to show plots in notebook:\n",
      "%matplotlib inline \n",
      "import matplotlib\n",
      "import matplotlib.pyplot as plt\n",
      "import pylab\n",
      "import numpy"
     ],
     "language": "python",
     "metadata": {},
     "outputs": [],
     "prompt_number": 26
    },
    {
     "cell_type": "markdown",
     "metadata": {},
     "source": [
      "and create a convenience function to plotting the Beta function given its parameters $a$ and $b$:"
     ]
    },
    {
     "cell_type": "code",
     "collapsed": false,
     "input": [
      "def plot_beta(a, b, fill = False):\n",
      "    betap = partial(beta.pdf, a, b)\n",
      "    xs = numpy.linspace(0,1)\n",
      "    #y = list(map(betap, x))\n",
      "    y = [beta.pdf(x, a, b) for x in xs]\n",
      "    \n",
      "    if fill:\n",
      "        fills = [ x <= 0.5 for x in xs]\n",
      "        plt.fill_between(xs ,y,0,where=fills  , color='0.8')\n",
      "        print(\"Prob that x<=0.5 is\", beta.cdf(0.5, a, b))\n",
      "    plt.plot(xs, y)"
     ],
     "language": "python",
     "metadata": {},
     "outputs": [],
     "prompt_number": 27
    },
    {
     "cell_type": "markdown",
     "metadata": {},
     "source": [
      "What the initial distribution looks like will depend on our choice of $a$ and $b$. The *Jeffrey's prior* looks like this:"
     ]
    },
    {
     "cell_type": "code",
     "collapsed": false,
     "input": [
      "plot_beta(a = 0.5, b = 0.5)"
     ],
     "language": "python",
     "metadata": {},
     "outputs": [
      {
       "metadata": {},
       "output_type": "display_data",
       "png": "[encoded data removed]",
       "text": [
        "<matplotlib.figure.Figure at 0x7fd2fa33ea90>"
       ]
      }
     ],
     "prompt_number": 28
    },
    {
     "cell_type": "markdown",
     "metadata": {},
     "source": [
      "We might also consider using the uniform distribution, obtained by setting $a=b=1$:"
     ]
    },
    {
     "cell_type": "code",
     "collapsed": false,
     "input": [
      "plot_beta(a = 1, b = 1)"
     ],
     "language": "python",
     "metadata": {},
     "outputs": [
      {
       "metadata": {},
       "output_type": "display_data",
       "png": "[encoded data removed]",
       "text": [
        "<matplotlib.figure.Figure at 0x7fd2fa4b0208>"
       ]
      }
     ],
     "prompt_number": 29
    },
    {
     "cell_type": "markdown",
     "metadata": {},
     "source": [
      "I would argue that investor performance is more likely to be clustered around the centre, as follows:"
     ]
    },
    {
     "cell_type": "code",
     "collapsed": false,
     "input": [
      "plot_beta(a = 2, b = 2)"
     ],
     "language": "python",
     "metadata": {},
     "outputs": [
      {
       "metadata": {},
       "output_type": "display_data",
       "png": "[encoded data removed]",
       "text": [
        "<matplotlib.figure.Figure at 0x7fd2fa556da0>"
       ]
      }
     ],
     "prompt_number": 30
    },
    {
     "cell_type": "markdown",
     "metadata": {},
     "source": [
      "Let us stick with that as our prior. In my PDF, I showed how we update our priors as new evidence comes in.\n",
      "\n",
      "The beta distribution has an [interesting interpretation](http://stats.stackexchange.com/questions/121880/problem-interpreting-the-beta-distribution): $a-1$ may be thought of as a count of the \"prior successes\", and $b-1$ may be thought of as a count of the \"prior failures\". In this notebook, either the investor performs better than the market, or worse than it. We count outperformance as \"success\", and underperformance as \"failure\".\n",
      "\n",
      "The convenient feature of the Beta function is that if the prior has PDF $\\mathrm{Beta}(a, b)$, then the posterior distribution after observing $s$ successes and $f$ failures is $\\mathrm{Beta}(a+s, b+f)$.\n",
      "\n",
      "We can now explore the distribution using this property. Let us first define a function for the posterior, assuming the priors $a=b=2$:"
     ]
    },
    {
     "cell_type": "code",
     "collapsed": false,
     "input": [
      "def post(s, f): plot_beta(2+s, 2+f, fill = True)"
     ],
     "language": "python",
     "metadata": {},
     "outputs": [],
     "prompt_number": 31
    },
    {
     "cell_type": "markdown",
     "metadata": {},
     "source": [
      "Returning to some numbers that we used in the binomial distribution, suppose that an investor beat the market in 6 out of 10 years. In other words, he had 6 successes and 4 failures:"
     ]
    },
    {
     "cell_type": "code",
     "collapsed": false,
     "input": [
      "post(6, 4)"
     ],
     "language": "python",
     "metadata": {},
     "outputs": [
      {
       "output_type": "stream",
       "stream": "stdout",
       "text": [
        "Prob that x<=0.5 is 0.29052734375\n"
       ]
      },
      {
       "metadata": {},
       "output_type": "display_data",
       "png": "[encoded data removed]",
       "text": [
        "<matplotlib.figure.Figure at 0x7fd2fa46f278>"
       ]
      }
     ],
     "prompt_number": 32
    },
    {
     "cell_type": "markdown",
     "metadata": {},
     "source": [
      "Above, you can see that the PDF has been skewed to the right, as we have obtained some evidence that the investor has skill. The grey region marks the boundary between 0 and 0.5. That region corresponds to \"no investor skill\" - the results were due to luck. The area has been calculated for us: 0.2905. We interpret that as meaning that there is a 0.2905 probability that the obtained the result purely by luck.\n",
      "\n",
      "If the investor had been investing for 100 years, but the proportion of his years of outperformance remained the same, then the posterior would look like this:"
     ]
    },
    {
     "cell_type": "code",
     "collapsed": false,
     "input": [
      "post(60,40)"
     ],
     "language": "python",
     "metadata": {},
     "outputs": [
      {
       "output_type": "stream",
       "stream": "stdout",
       "text": [
        "Prob that x<=0.5 is 0.0241168260855\n"
       ]
      },
      {
       "metadata": {},
       "output_type": "display_data",
       "png": "[encoded data removed]",
       "text": [
        "<matplotlib.figure.Figure at 0x7fd2fa524c50>"
       ]
      }
     ],
     "prompt_number": 33
    },
    {
     "cell_type": "markdown",
     "metadata": {},
     "source": [
      "Note that the probability that he was lucky has reduced to 0.0241. We are therefore much more convinced that the investor has superior skill. Our confidence increased because we used more evidence.\n",
      "\n",
      "Let's look another case, one where the investor outperformed the market in 7 of the last 10 years:"
     ]
    },
    {
     "cell_type": "code",
     "collapsed": false,
     "input": [
      "post(7, 3)"
     ],
     "language": "python",
     "metadata": {},
     "outputs": [
      {
       "output_type": "stream",
       "stream": "stdout",
       "text": [
        "Prob that x<=0.5 is 0.133422851562\n"
       ]
      },
      {
       "metadata": {},
       "output_type": "display_data",
       "png": "[encoded data removed]",
       "text": [
        "<matplotlib.figure.Figure at 0x7fd2fa46f710>"
       ]
      }
     ],
     "prompt_number": 34
    },
    {
     "cell_type": "markdown",
     "metadata": {},
     "source": [
      "Hopefully it is intuitively obvious that the PDF is now skewed more to the right. He has a greater proportion of wins. It also makes it less likely that his performance was due to chance.\n",
      "\n",
      "As a final example, consider the example where, over the last 16 years, the investor outperformed on 12 occasions, and underperformed in 4:"
     ]
    },
    {
     "cell_type": "code",
     "collapsed": false,
     "input": [
      "post(12,4)"
     ],
     "language": "python",
     "metadata": {},
     "outputs": [
      {
       "output_type": "stream",
       "stream": "stdout",
       "text": [
        "Prob that x<=0.5 is 0.0317840576172\n"
       ]
      },
      {
       "metadata": {},
       "output_type": "display_data",
       "png": "[encoded data removed]",
       "text": [
        "<matplotlib.figure.Figure at 0x7fd2fa4b07f0>"
       ]
      }
     ],
     "prompt_number": 35
    },
    {
     "cell_type": "markdown",
     "metadata": {},
     "source": [
      "You can see that there is around a 3.2% chance that the result was due to chance alone. As it happens, this statistic has some personal relevance to me (I shall say no more).\n",
      "\n",
      "The tools used in this notebook are completely free, although they do take some time to set up properly. Although I haven't tested it, I see from the [Microsoft website](http://office.microsoft.com/en-gb/excel-help/beta-dist-function-HP010335669.aspx) that Excel 2010, at least, contains a `BETA.DIST` function. So you can experiment with your own numbers simply bu using Excel.\n",
      "\n",
      "I hope you have enjoyed this presentation. You can email me at `devnull at markcarter dot me do uk`. Be warned that it is a \"temporary\" account which will be switched to reject email if I run into spamming problems."
     ]
    }
   ],
   "metadata": {}
  }
 ]
}